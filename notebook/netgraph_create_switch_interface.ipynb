{
 "cells": [
  {
   "cell_type": "code",
   "execution_count": null,
   "id": "featured-macintosh",
   "metadata": {},
   "outputs": [],
   "source": [
    "!pip install neo4j"
   ]
  },
  {
   "cell_type": "code",
   "execution_count": null,
   "id": "hairy-reception",
   "metadata": {},
   "outputs": [],
   "source": [
    "from neo4j  import GraphDatabase, basic_auth\n",
    "\n",
    "url  = ''\n",
    "username = ''\n",
    "password = ''\n",
    "\n",
    "driver = GraphDatabase.driver(url, auth=basic_auth(username, password))"
   ]
  },
  {
   "cell_type": "code",
   "execution_count": null,
   "id": "serious-seeking",
   "metadata": {},
   "outputs": [],
   "source": [
    "session = driver.session()\n",
    "\n",
    "query = '''\n",
    "MATCH (switch:Switch {name: 'Switch000001'})-[phy:Direct]->(interface:Interface)-[vir:Direct]->(vlan:VLAN)\n",
    "RETURN interface.name,\n",
    "       phy.Type,\n",
    "       phy.Tenant,\n",
    "       vir.Type,\n",
    "       vir.Tenant,\n",
    "       vlan.name,\n",
    "       vlan.Tenant\n",
    "'''\n",
    "\n",
    "results = session.run(query)\n",
    "\n",
    "for record in results:\n",
    "    print('configuration for {}'.format(record['vlan.Tenant']))\n",
    "    switch_interface_config = '''\n",
    "    intereface {}{}\n",
    "      switchport mode trunk\n",
    "      switchport trunk allowed vlan add {} \n",
    "    '''.format(record['phy.Type'], record['interface.name'], record['vlan.name'])\n",
    "    print(switch_interface_config)"
   ]
  }
 ],
 "metadata": {
  "kernelspec": {
   "display_name": "Python 3",
   "language": "python",
   "name": "python3"
  },
  "language_info": {
   "codemirror_mode": {
    "name": "ipython",
    "version": 3
   },
   "file_extension": ".py",
   "mimetype": "text/x-python",
   "name": "python",
   "nbconvert_exporter": "python",
   "pygments_lexer": "ipython3",
   "version": "3.8.8"
  }
 },
 "nbformat": 4,
 "nbformat_minor": 5
}
